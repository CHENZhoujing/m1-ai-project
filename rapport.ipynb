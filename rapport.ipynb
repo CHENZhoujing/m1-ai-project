{
 "cells": [
  {
   "cell_type": "markdown",
   "source": [
    "Rapport\n",
    "\n",
    "To solve the n-sliding puzzle using A* search, you will need to define the following elements:\n",
    "\n",
    "STATES: A state in the puzzle will represent a particular configuration of the tiles. For example, in the 15-sliding puzzle, a state could be the arrangement of the tiles shown below:\n",
    "\n",
    "1 2 3 4\n",
    "5 6 7 8\n",
    "9 10 11 12\n",
    "13 14 15\n",
    "\n",
    "ACTIONS: The actions available in this problem will be the movement of a tile into the empty space. For example, if the empty space is in the bottom right corner, you could move the tile in the bottom left corner into the empty space.\n",
    "\n",
    "GOAL TEST: The goal of the puzzle is to rearrange the tiles so that they are in the correct order, with the empty space in the bottom right corner. You can test if a particular state is the goal state by checking if the tiles are in the correct order.\n",
    "\n",
    "PATH COST: The cost of a path in this problem will be the number of moves required to reach the goal state from the current state. For example, if it takes 5 moves to reach the goal state from the current state, the cost of the path would be 5."
   ],
   "metadata": {
    "collapsed": false
   }
  }
 ],
 "metadata": {
  "kernelspec": {
   "display_name": "Python 3",
   "language": "python",
   "name": "python3"
  },
  "language_info": {
   "codemirror_mode": {
    "name": "ipython",
    "version": 2
   },
   "file_extension": ".py",
   "mimetype": "text/x-python",
   "name": "python",
   "nbconvert_exporter": "python",
   "pygments_lexer": "ipython2",
   "version": "2.7.6"
  }
 },
 "nbformat": 4,
 "nbformat_minor": 0
}
